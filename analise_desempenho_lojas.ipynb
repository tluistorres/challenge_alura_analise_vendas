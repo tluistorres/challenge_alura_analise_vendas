{
  "cells": [
    {
      "cell_type": "markdown",
      "metadata": {
        "id": "RhEdWd9YUR6H"
      },
      "source": [
        "### Importação dos dados\n",
        "\n"
      ]
    },
    {
      "cell_type": "code",
      "execution_count": 10,
      "metadata": {
        "colab": {
          "base_uri": "https://localhost:8080/",
          "height": 206
        },
        "id": "T3EvaeQ_INIL",
        "outputId": "7194bc65-372c-47e6-cb47-d4bfc9952c91"
      },
      "outputs": [
        {
          "data": {
            "text/html": [
              "<div>\n",
              "<style scoped>\n",
              "    .dataframe tbody tr th:only-of-type {\n",
              "        vertical-align: middle;\n",
              "    }\n",
              "\n",
              "    .dataframe tbody tr th {\n",
              "        vertical-align: top;\n",
              "    }\n",
              "\n",
              "    .dataframe thead th {\n",
              "        text-align: right;\n",
              "    }\n",
              "</style>\n",
              "<table border=\"1\" class=\"dataframe\">\n",
              "  <thead>\n",
              "    <tr style=\"text-align: right;\">\n",
              "      <th></th>\n",
              "      <th>Produto</th>\n",
              "      <th>Categoria do Produto</th>\n",
              "      <th>Preço</th>\n",
              "      <th>Frete</th>\n",
              "      <th>Data da Compra</th>\n",
              "      <th>Vendedor</th>\n",
              "      <th>Local da compra</th>\n",
              "      <th>Avaliação da compra</th>\n",
              "      <th>Tipo de pagamento</th>\n",
              "      <th>Quantidade de parcelas</th>\n",
              "      <th>lat</th>\n",
              "      <th>lon</th>\n",
              "    </tr>\n",
              "  </thead>\n",
              "  <tbody>\n",
              "    <tr>\n",
              "      <th>0</th>\n",
              "      <td>Assistente virtual</td>\n",
              "      <td>eletronicos</td>\n",
              "      <td>219.08</td>\n",
              "      <td>9.249790</td>\n",
              "      <td>16/01/2021</td>\n",
              "      <td>Pedro Gomes</td>\n",
              "      <td>SP</td>\n",
              "      <td>4</td>\n",
              "      <td>cartao_credito</td>\n",
              "      <td>8</td>\n",
              "      <td>-22.19</td>\n",
              "      <td>-48.79</td>\n",
              "    </tr>\n",
              "    <tr>\n",
              "      <th>1</th>\n",
              "      <td>Mesa de jantar</td>\n",
              "      <td>moveis</td>\n",
              "      <td>256.35</td>\n",
              "      <td>11.234305</td>\n",
              "      <td>18/05/2022</td>\n",
              "      <td>Beatriz Moraes</td>\n",
              "      <td>RJ</td>\n",
              "      <td>1</td>\n",
              "      <td>cartao_credito</td>\n",
              "      <td>4</td>\n",
              "      <td>-22.25</td>\n",
              "      <td>-42.66</td>\n",
              "    </tr>\n",
              "    <tr>\n",
              "      <th>2</th>\n",
              "      <td>Jogo de tabuleiro</td>\n",
              "      <td>brinquedos</td>\n",
              "      <td>279.51</td>\n",
              "      <td>21.262681</td>\n",
              "      <td>15/03/2021</td>\n",
              "      <td>João Souza</td>\n",
              "      <td>DF</td>\n",
              "      <td>1</td>\n",
              "      <td>cartao_credito</td>\n",
              "      <td>1</td>\n",
              "      <td>-15.83</td>\n",
              "      <td>-47.86</td>\n",
              "    </tr>\n",
              "    <tr>\n",
              "      <th>3</th>\n",
              "      <td>Micro-ondas</td>\n",
              "      <td>eletrodomesticos</td>\n",
              "      <td>1009.99</td>\n",
              "      <td>54.667344</td>\n",
              "      <td>03/05/2022</td>\n",
              "      <td>João Souza</td>\n",
              "      <td>RS</td>\n",
              "      <td>4</td>\n",
              "      <td>boleto</td>\n",
              "      <td>1</td>\n",
              "      <td>-30.17</td>\n",
              "      <td>-53.50</td>\n",
              "    </tr>\n",
              "    <tr>\n",
              "      <th>4</th>\n",
              "      <td>Cadeira de escritório</td>\n",
              "      <td>moveis</td>\n",
              "      <td>446.99</td>\n",
              "      <td>26.964689</td>\n",
              "      <td>07/11/2020</td>\n",
              "      <td>Larissa Alves</td>\n",
              "      <td>MG</td>\n",
              "      <td>5</td>\n",
              "      <td>boleto</td>\n",
              "      <td>1</td>\n",
              "      <td>-18.10</td>\n",
              "      <td>-44.38</td>\n",
              "    </tr>\n",
              "  </tbody>\n",
              "</table>\n",
              "</div>"
            ],
            "text/plain": [
              "                 Produto Categoria do Produto    Preço      Frete  \\\n",
              "0     Assistente virtual          eletronicos   219.08   9.249790   \n",
              "1         Mesa de jantar               moveis   256.35  11.234305   \n",
              "2      Jogo de tabuleiro           brinquedos   279.51  21.262681   \n",
              "3            Micro-ondas     eletrodomesticos  1009.99  54.667344   \n",
              "4  Cadeira de escritório               moveis   446.99  26.964689   \n",
              "\n",
              "  Data da Compra        Vendedor Local da compra  Avaliação da compra  \\\n",
              "0     16/01/2021     Pedro Gomes              SP                    4   \n",
              "1     18/05/2022  Beatriz Moraes              RJ                    1   \n",
              "2     15/03/2021      João Souza              DF                    1   \n",
              "3     03/05/2022      João Souza              RS                    4   \n",
              "4     07/11/2020   Larissa Alves              MG                    5   \n",
              "\n",
              "  Tipo de pagamento  Quantidade de parcelas    lat    lon  \n",
              "0    cartao_credito                       8 -22.19 -48.79  \n",
              "1    cartao_credito                       4 -22.25 -42.66  \n",
              "2    cartao_credito                       1 -15.83 -47.86  \n",
              "3            boleto                       1 -30.17 -53.50  \n",
              "4            boleto                       1 -18.10 -44.38  "
            ]
          },
          "execution_count": 10,
          "metadata": {},
          "output_type": "execute_result"
        }
      ],
      "source": [
        "import pandas as pd\n",
        "\n",
        "url = \"https://raw.githubusercontent.com/alura-es-cursos/challenge1-data-science/refs/heads/main/base-de-dados-challenge-1/loja_1.csv\"\n",
        "url2 = \"https://raw.githubusercontent.com/alura-es-cursos/challenge1-data-science/refs/heads/main/base-de-dados-challenge-1/loja_2.csv\"\n",
        "url3 = \"https://raw.githubusercontent.com/alura-es-cursos/challenge1-data-science/refs/heads/main/base-de-dados-challenge-1/loja_3.csv\"\n",
        "url4 = \"https://raw.githubusercontent.com/alura-es-cursos/challenge1-data-science/refs/heads/main/base-de-dados-challenge-1/loja_4.csv\"\n",
        "\n",
        "loja = pd.read_csv(url)\n",
        "loja2 = pd.read_csv(url2)\n",
        "loja3 = pd.read_csv(url3)\n",
        "loja4 = pd.read_csv(url4)\n",
        "\n",
        "loja.head()"
      ]
    },
    {
      "cell_type": "markdown",
      "metadata": {
        "id": "X62IW3KFUIYm"
      },
      "source": [
        "#1. Análise do faturamento\n"
      ]
    },
    {
      "cell_type": "code",
      "execution_count": 17,
      "metadata": {},
      "outputs": [
        {
          "name": "stdout",
          "output_type": "stream",
          "text": [
            "Faturamento da loja_1 R$2211.92\n"
          ]
        }
      ],
      "source": [
        "import pandas as pd\n",
        "\n",
        "# Dados da loja_1\n",
        "\n",
        "dados = {\n",
        "    'Produto': ['Assistente virtual', 'Mesa de jantar', 'Jogo de tabuleiro', 'Micro-ondas', 'Cadeira de escritório'],\n",
        "    'Categoria do Produto': ['eletronicos', 'moveis', 'brinquedos', 'eletrodomesticos', 'moveis'],\n",
        "    'Preço': [219.08, 256.35, 279.51, 1009.99, 446.99],\n",
        "    'Frete': [9.24979, 11.234305, 21.262681, 54.667344, 26.964689],\n",
        "    'Data da Compra': ['16/01/2021', '18/05/2022', '15/03/2021', '03/05/2022', '07/11/2020'],\n",
        "    'Vendedor': ['Pedro Gomes', 'Beatriz Moraes', 'João Souza', 'João Souza', 'Larissa Alves'],\n",
        "    'Local da compra': ['SP', 'RJ', 'DF', 'RS', 'MG'],\n",
        "    'Avaliação da compra': [4, 1, 1, 4, 5],\n",
        "    'Tipo de pagamento': ['cartao_credito', 'cartao_credito', 'cartao_credito', 'boleto', 'boleto'],\n",
        "    'Quantidade de parcelas': [8, 4, 1, 1, 1],\n",
        "    'lat': [-22.19, -22.25, -15.83, -30.17, -18.10],\n",
        "    'lon': [-48.79, -42.66, -47.86, -53.50, -44.38]\n",
        "}\n",
        "\n",
        "# Crie um DataFrame\n",
        "\n",
        "loja = pd.DataFrame(dados)\n",
        "\n",
        "# Calcule o faturamento\n",
        "\n",
        "faturamento = loja['Preço'].sum()\n",
        "\n",
        "# Imprima o faturamento\n",
        "\n",
        "print(f'Faturamento da loja_1 R${faturamento:.2f}')\n",
        "\n"
      ]
    },
    {
      "cell_type": "code",
      "execution_count": 53,
      "metadata": {},
      "outputs": [
        {
          "data": {
            "text/html": [
              "<div>\n",
              "<style scoped>\n",
              "    .dataframe tbody tr th:only-of-type {\n",
              "        vertical-align: middle;\n",
              "    }\n",
              "\n",
              "    .dataframe tbody tr th {\n",
              "        vertical-align: top;\n",
              "    }\n",
              "\n",
              "    .dataframe thead th {\n",
              "        text-align: right;\n",
              "    }\n",
              "</style>\n",
              "<table border=\"1\" class=\"dataframe\">\n",
              "  <thead>\n",
              "    <tr style=\"text-align: right;\">\n",
              "      <th></th>\n",
              "      <th>Produto</th>\n",
              "      <th>Categoria do Produto</th>\n",
              "      <th>Preço</th>\n",
              "      <th>Frete</th>\n",
              "      <th>Data da Compra</th>\n",
              "      <th>Vendedor</th>\n",
              "      <th>Local da compra</th>\n",
              "      <th>Avaliação da compra</th>\n",
              "      <th>Tipo de pagamento</th>\n",
              "      <th>Quantidade de parcelas</th>\n",
              "      <th>lat</th>\n",
              "      <th>lon</th>\n",
              "    </tr>\n",
              "  </thead>\n",
              "  <tbody>\n",
              "    <tr>\n",
              "      <th>0</th>\n",
              "      <td>Cadeira de escritório</td>\n",
              "      <td>moveis</td>\n",
              "      <td>378.20</td>\n",
              "      <td>20.421138</td>\n",
              "      <td>04/08/2021</td>\n",
              "      <td>Thiago Silva</td>\n",
              "      <td>MG</td>\n",
              "      <td>1</td>\n",
              "      <td>boleto</td>\n",
              "      <td>1</td>\n",
              "      <td>-18.10</td>\n",
              "      <td>-44.38</td>\n",
              "    </tr>\n",
              "    <tr>\n",
              "      <th>1</th>\n",
              "      <td>Pandeiro</td>\n",
              "      <td>instrumentos musicais</td>\n",
              "      <td>102.37</td>\n",
              "      <td>3.035334</td>\n",
              "      <td>26/11/2020</td>\n",
              "      <td>Bianca Santos</td>\n",
              "      <td>RJ</td>\n",
              "      <td>3</td>\n",
              "      <td>cartao_credito</td>\n",
              "      <td>4</td>\n",
              "      <td>-22.25</td>\n",
              "      <td>-42.66</td>\n",
              "    </tr>\n",
              "    <tr>\n",
              "      <th>2</th>\n",
              "      <td>Cama king</td>\n",
              "      <td>moveis</td>\n",
              "      <td>591.13</td>\n",
              "      <td>31.759020</td>\n",
              "      <td>22/10/2021</td>\n",
              "      <td>Thiago Silva</td>\n",
              "      <td>SC</td>\n",
              "      <td>5</td>\n",
              "      <td>cartao_credito</td>\n",
              "      <td>10</td>\n",
              "      <td>-27.45</td>\n",
              "      <td>-50.95</td>\n",
              "    </tr>\n",
              "    <tr>\n",
              "      <th>3</th>\n",
              "      <td>Cama king</td>\n",
              "      <td>moveis</td>\n",
              "      <td>1208.24</td>\n",
              "      <td>61.919584</td>\n",
              "      <td>04/05/2022</td>\n",
              "      <td>Larissa Alves</td>\n",
              "      <td>RS</td>\n",
              "      <td>5</td>\n",
              "      <td>cartao_credito</td>\n",
              "      <td>10</td>\n",
              "      <td>-30.17</td>\n",
              "      <td>-53.50</td>\n",
              "    </tr>\n",
              "    <tr>\n",
              "      <th>4</th>\n",
              "      <td>Cadeira de escritório</td>\n",
              "      <td>moveis</td>\n",
              "      <td>530.41</td>\n",
              "      <td>25.827176</td>\n",
              "      <td>26/02/2022</td>\n",
              "      <td>Lucas Oliveira</td>\n",
              "      <td>SP</td>\n",
              "      <td>4</td>\n",
              "      <td>cartao_credito</td>\n",
              "      <td>3</td>\n",
              "      <td>-22.19</td>\n",
              "      <td>-48.79</td>\n",
              "    </tr>\n",
              "  </tbody>\n",
              "</table>\n",
              "</div>"
            ],
            "text/plain": [
              "                 Produto   Categoria do Produto    Preço      Frete  \\\n",
              "0  Cadeira de escritório                 moveis   378.20  20.421138   \n",
              "1               Pandeiro  instrumentos musicais   102.37   3.035334   \n",
              "2              Cama king                 moveis   591.13  31.759020   \n",
              "3              Cama king                 moveis  1208.24  61.919584   \n",
              "4  Cadeira de escritório                 moveis   530.41  25.827176   \n",
              "\n",
              "  Data da Compra        Vendedor Local da compra  Avaliação da compra  \\\n",
              "0     04/08/2021    Thiago Silva              MG                    1   \n",
              "1     26/11/2020   Bianca Santos              RJ                    3   \n",
              "2     22/10/2021    Thiago Silva              SC                    5   \n",
              "3     04/05/2022   Larissa Alves              RS                    5   \n",
              "4     26/02/2022  Lucas Oliveira              SP                    4   \n",
              "\n",
              "  Tipo de pagamento  Quantidade de parcelas    lat    lon  \n",
              "0            boleto                       1 -18.10 -44.38  \n",
              "1    cartao_credito                       4 -22.25 -42.66  \n",
              "2    cartao_credito                      10 -27.45 -50.95  \n",
              "3    cartao_credito                      10 -30.17 -53.50  \n",
              "4    cartao_credito                       3 -22.19 -48.79  "
            ]
          },
          "execution_count": 53,
          "metadata": {},
          "output_type": "execute_result"
        }
      ],
      "source": [
        "loja2 = pd.read_csv(url2)\n",
        "\n",
        "loja2.head()\n"
      ]
    },
    {
      "cell_type": "code",
      "execution_count": 49,
      "metadata": {},
      "outputs": [
        {
          "name": "stdout",
          "output_type": "stream",
          "text": [
            "Faturamento da loja_2: R$2810.35\n"
          ]
        }
      ],
      "source": [
        "# Dados da loja_2\n",
        "\n",
        "dados = {\n",
        "    'Produto': ['Cadeira de escritório', 'Pandeiro', 'Cama king', 'Cama king', 'Cadeira de escritório'],\n",
        "    'Categoria do Produto': ['moveis', 'instrumentos musicais', 'moveis', 'moveis', 'moveis'],\n",
        "    'Preço': [378.20, 102.37, 591.13, 1208.24, 530.41],\n",
        "    'Frete': [20.421138, 3.035334, 31.759020, 61.919584, 25.827176],\n",
        "    'Data da Compra': ['04/08/2021', '26/11/2020', '22/10/2021', '04/05/2022', '26/02/2022'],\n",
        "    'Vendedor': ['Thiago Silva', 'Bianca Santos', 'Thiago Silva', 'Larissa Alves', 'Lucas Oliveira'],\n",
        "    'Local da compra': ['MG', 'RJ', 'SC', 'RS', 'SP'],\n",
        "    'Avaliação da compra': [1, 3, 5, 5, 4],\n",
        "    'Tipo de pagamento': ['boleto', 'cartao_credito', 'cartao_credito', 'cartao_credito', 'cartao_credito'],\n",
        "    'Quantidade de parcelas': [1, 4, 10, 10, 3],\n",
        "    'lat': [-18.10, -22.25, -27.45, -30.17, -22.19],\n",
        "    'lon': [-44.38, -42.66, -50.95, -53.50, -48.79]\n",
        "}\n",
        "\n",
        "# Crie um DataFrame\n",
        "\n",
        "loja2 = pd.DataFrame(dados)\n",
        "\n",
        "# Calcule o faturamento\n",
        "faturamento = loja2['Preço'].sum()\n",
        "\n",
        "# Imprima o faturamento\n",
        "print(f'Faturamento da loja_2: R${faturamento:.2f}')\n",
        "\n"
      ]
    },
    {
      "cell_type": "code",
      "execution_count": 41,
      "metadata": {},
      "outputs": [
        {
          "data": {
            "text/html": [
              "<div>\n",
              "<style scoped>\n",
              "    .dataframe tbody tr th:only-of-type {\n",
              "        vertical-align: middle;\n",
              "    }\n",
              "\n",
              "    .dataframe tbody tr th {\n",
              "        vertical-align: top;\n",
              "    }\n",
              "\n",
              "    .dataframe thead th {\n",
              "        text-align: right;\n",
              "    }\n",
              "</style>\n",
              "<table border=\"1\" class=\"dataframe\">\n",
              "  <thead>\n",
              "    <tr style=\"text-align: right;\">\n",
              "      <th></th>\n",
              "      <th>Produto</th>\n",
              "      <th>Categoria do Produto</th>\n",
              "      <th>Preço</th>\n",
              "      <th>Frete</th>\n",
              "      <th>Data da Compra</th>\n",
              "      <th>Vendedor</th>\n",
              "      <th>Local da compra</th>\n",
              "      <th>Avaliação da compra</th>\n",
              "      <th>Tipo de pagamento</th>\n",
              "      <th>Quantidade de parcelas</th>\n",
              "      <th>lat</th>\n",
              "      <th>lon</th>\n",
              "    </tr>\n",
              "  </thead>\n",
              "  <tbody>\n",
              "    <tr>\n",
              "      <th>0</th>\n",
              "      <td>Secadora de roupas</td>\n",
              "      <td>eletrodomesticos</td>\n",
              "      <td>1713.50</td>\n",
              "      <td>88.823159</td>\n",
              "      <td>17/12/2021</td>\n",
              "      <td>Camila Ribeiro</td>\n",
              "      <td>CE</td>\n",
              "      <td>4</td>\n",
              "      <td>cartao_credito</td>\n",
              "      <td>4</td>\n",
              "      <td>-5.20</td>\n",
              "      <td>-39.53</td>\n",
              "    </tr>\n",
              "    <tr>\n",
              "      <th>1</th>\n",
              "      <td>Cômoda</td>\n",
              "      <td>moveis</td>\n",
              "      <td>386.81</td>\n",
              "      <td>18.180908</td>\n",
              "      <td>10/02/2021</td>\n",
              "      <td>Larissa Alves</td>\n",
              "      <td>RS</td>\n",
              "      <td>3</td>\n",
              "      <td>cartao_credito</td>\n",
              "      <td>1</td>\n",
              "      <td>-30.17</td>\n",
              "      <td>-53.50</td>\n",
              "    </tr>\n",
              "    <tr>\n",
              "      <th>2</th>\n",
              "      <td>Violão</td>\n",
              "      <td>instrumentos musicais</td>\n",
              "      <td>404.62</td>\n",
              "      <td>23.197592</td>\n",
              "      <td>22/01/2023</td>\n",
              "      <td>Lucas Oliveira</td>\n",
              "      <td>SP</td>\n",
              "      <td>5</td>\n",
              "      <td>cartao_credito</td>\n",
              "      <td>3</td>\n",
              "      <td>-22.19</td>\n",
              "      <td>-48.79</td>\n",
              "    </tr>\n",
              "    <tr>\n",
              "      <th>3</th>\n",
              "      <td>Bola de vôlei</td>\n",
              "      <td>esporte e lazer</td>\n",
              "      <td>78.40</td>\n",
              "      <td>4.463341</td>\n",
              "      <td>22/03/2022</td>\n",
              "      <td>Pedro Gomes</td>\n",
              "      <td>BA</td>\n",
              "      <td>4</td>\n",
              "      <td>cartao_credito</td>\n",
              "      <td>6</td>\n",
              "      <td>-13.29</td>\n",
              "      <td>-41.71</td>\n",
              "    </tr>\n",
              "    <tr>\n",
              "      <th>4</th>\n",
              "      <td>Guarda roupas</td>\n",
              "      <td>moveis</td>\n",
              "      <td>694.76</td>\n",
              "      <td>34.578319</td>\n",
              "      <td>12/01/2022</td>\n",
              "      <td>Bianca Santos</td>\n",
              "      <td>SP</td>\n",
              "      <td>1</td>\n",
              "      <td>cartao_credito</td>\n",
              "      <td>1</td>\n",
              "      <td>-22.19</td>\n",
              "      <td>-48.79</td>\n",
              "    </tr>\n",
              "  </tbody>\n",
              "</table>\n",
              "</div>"
            ],
            "text/plain": [
              "              Produto   Categoria do Produto    Preço      Frete  \\\n",
              "0  Secadora de roupas       eletrodomesticos  1713.50  88.823159   \n",
              "1              Cômoda                 moveis   386.81  18.180908   \n",
              "2              Violão  instrumentos musicais   404.62  23.197592   \n",
              "3       Bola de vôlei        esporte e lazer    78.40   4.463341   \n",
              "4       Guarda roupas                 moveis   694.76  34.578319   \n",
              "\n",
              "  Data da Compra        Vendedor Local da compra  Avaliação da compra  \\\n",
              "0     17/12/2021  Camila Ribeiro              CE                    4   \n",
              "1     10/02/2021   Larissa Alves              RS                    3   \n",
              "2     22/01/2023  Lucas Oliveira              SP                    5   \n",
              "3     22/03/2022     Pedro Gomes              BA                    4   \n",
              "4     12/01/2022   Bianca Santos              SP                    1   \n",
              "\n",
              "  Tipo de pagamento  Quantidade de parcelas    lat    lon  \n",
              "0    cartao_credito                       4  -5.20 -39.53  \n",
              "1    cartao_credito                       1 -30.17 -53.50  \n",
              "2    cartao_credito                       3 -22.19 -48.79  \n",
              "3    cartao_credito                       6 -13.29 -41.71  \n",
              "4    cartao_credito                       1 -22.19 -48.79  "
            ]
          },
          "execution_count": 41,
          "metadata": {},
          "output_type": "execute_result"
        }
      ],
      "source": [
        "loja3 = pd.read_csv(url3)\n",
        "\n",
        "loja3.head()"
      ]
    },
    {
      "cell_type": "code",
      "execution_count": null,
      "metadata": {},
      "outputs": [
        {
          "name": "stdout",
          "output_type": "stream",
          "text": [
            "Faturamento da loja_3: R$3278.09\n"
          ]
        }
      ],
      "source": [
        "\n",
        "# Dados da loja_3\n",
        "\n",
        "dados = {\n",
        "    'Produto': ['Secadora de roupas', 'Cômoda', 'Violão', 'Bola de vôlei', 'Guarda roupas'],\n",
        "    'Categoria do Produto': ['eletrodomesticos', 'moveis', 'instrumentos musicais', 'esporte e lazer', 'moveis'],\n",
        "    'Preço': [1713.50, 386.81, 404.62, 78.40, 694.76],\n",
        "    'Frete': [88.823159, 18.180908, 23.197592, 4.463341, 34.578319],\n",
        "    'Data da Compra': ['17/12/2021', '10/02/2021', '22/01/2023', '22/03/2022', '12/01/2022'],\n",
        "    'Vendedor': ['Camila Ribeiro', 'Larissa Alves', 'Lucas Oliveira', 'Pedro Gomes', 'Bianca Santos'],\n",
        "    'Local da compra': ['CE', 'RS', 'SP', 'BA', 'SP'],\n",
        "    'Avaliação da compra': [4, 3, 5, 4, 1],\n",
        "    'Tipo de pagamento': ['cartao_credito', 'cartao_credito', 'cartao_credito', 'cartao_credito', 'cartao_credito'],\n",
        "    'Quantidade de parcelas': [4, 1, 3, 6, 1],\n",
        "    'lat': [-5.20, -30.17, -22.19, -13.29, -22.19],\n",
        "    'lon': [-39.53, -53.50, -48.79, -41.71, -48.79]\n",
        "}\n",
        "\n",
        "# Crie um DataFrame\n",
        "\n",
        "loja3 = pd.DataFrame(dados)\n",
        "\n",
        "# Calcule o faturamento\n",
        "\n",
        "faturamento = loja3['Preço'].sum()\n",
        "\n",
        "# Imprima o faturamento\n",
        "print(f'Faturamento da loja_3: R${faturamento:.2f}')\n",
        "\n"
      ]
    },
    {
      "cell_type": "code",
      "execution_count": 50,
      "metadata": {},
      "outputs": [
        {
          "data": {
            "text/html": [
              "<div>\n",
              "<style scoped>\n",
              "    .dataframe tbody tr th:only-of-type {\n",
              "        vertical-align: middle;\n",
              "    }\n",
              "\n",
              "    .dataframe tbody tr th {\n",
              "        vertical-align: top;\n",
              "    }\n",
              "\n",
              "    .dataframe thead th {\n",
              "        text-align: right;\n",
              "    }\n",
              "</style>\n",
              "<table border=\"1\" class=\"dataframe\">\n",
              "  <thead>\n",
              "    <tr style=\"text-align: right;\">\n",
              "      <th></th>\n",
              "      <th>Produto</th>\n",
              "      <th>Categoria do Produto</th>\n",
              "      <th>Preço</th>\n",
              "      <th>Frete</th>\n",
              "      <th>Data da Compra</th>\n",
              "      <th>Vendedor</th>\n",
              "      <th>Local da compra</th>\n",
              "      <th>Avaliação da compra</th>\n",
              "      <th>Tipo de pagamento</th>\n",
              "      <th>Quantidade de parcelas</th>\n",
              "      <th>lat</th>\n",
              "      <th>lon</th>\n",
              "    </tr>\n",
              "  </thead>\n",
              "  <tbody>\n",
              "    <tr>\n",
              "      <th>0</th>\n",
              "      <td>Lava louças</td>\n",
              "      <td>eletrodomesticos</td>\n",
              "      <td>1446.46</td>\n",
              "      <td>74.604083</td>\n",
              "      <td>11/11/2022</td>\n",
              "      <td>Rafael Costa</td>\n",
              "      <td>SP</td>\n",
              "      <td>4</td>\n",
              "      <td>cartao_credito</td>\n",
              "      <td>3</td>\n",
              "      <td>-22.19</td>\n",
              "      <td>-48.79</td>\n",
              "    </tr>\n",
              "    <tr>\n",
              "      <th>1</th>\n",
              "      <td>Cama box</td>\n",
              "      <td>moveis</td>\n",
              "      <td>631.70</td>\n",
              "      <td>33.919251</td>\n",
              "      <td>03/01/2020</td>\n",
              "      <td>Thiago Silva</td>\n",
              "      <td>GO</td>\n",
              "      <td>5</td>\n",
              "      <td>cartao_credito</td>\n",
              "      <td>2</td>\n",
              "      <td>-15.98</td>\n",
              "      <td>-49.86</td>\n",
              "    </tr>\n",
              "    <tr>\n",
              "      <th>2</th>\n",
              "      <td>Bola de basquete</td>\n",
              "      <td>esporte e lazer</td>\n",
              "      <td>31.54</td>\n",
              "      <td>0.000000</td>\n",
              "      <td>25/12/2022</td>\n",
              "      <td>Larissa Alves</td>\n",
              "      <td>MG</td>\n",
              "      <td>5</td>\n",
              "      <td>boleto</td>\n",
              "      <td>1</td>\n",
              "      <td>-18.10</td>\n",
              "      <td>-44.38</td>\n",
              "    </tr>\n",
              "    <tr>\n",
              "      <th>3</th>\n",
              "      <td>Modelagem preditiva</td>\n",
              "      <td>livros</td>\n",
              "      <td>76.93</td>\n",
              "      <td>1.680730</td>\n",
              "      <td>23/11/2021</td>\n",
              "      <td>Lucas Oliveira</td>\n",
              "      <td>MG</td>\n",
              "      <td>3</td>\n",
              "      <td>boleto</td>\n",
              "      <td>1</td>\n",
              "      <td>-18.10</td>\n",
              "      <td>-44.38</td>\n",
              "    </tr>\n",
              "    <tr>\n",
              "      <th>4</th>\n",
              "      <td>Fone de ouvido</td>\n",
              "      <td>eletronicos</td>\n",
              "      <td>185.14</td>\n",
              "      <td>7.442587</td>\n",
              "      <td>25/04/2022</td>\n",
              "      <td>Bianca Santos</td>\n",
              "      <td>SP</td>\n",
              "      <td>4</td>\n",
              "      <td>cartao_credito</td>\n",
              "      <td>7</td>\n",
              "      <td>-22.19</td>\n",
              "      <td>-48.79</td>\n",
              "    </tr>\n",
              "  </tbody>\n",
              "</table>\n",
              "</div>"
            ],
            "text/plain": [
              "               Produto Categoria do Produto    Preço      Frete  \\\n",
              "0          Lava louças     eletrodomesticos  1446.46  74.604083   \n",
              "1             Cama box               moveis   631.70  33.919251   \n",
              "2     Bola de basquete      esporte e lazer    31.54   0.000000   \n",
              "3  Modelagem preditiva               livros    76.93   1.680730   \n",
              "4       Fone de ouvido          eletronicos   185.14   7.442587   \n",
              "\n",
              "  Data da Compra        Vendedor Local da compra  Avaliação da compra  \\\n",
              "0     11/11/2022    Rafael Costa              SP                    4   \n",
              "1     03/01/2020    Thiago Silva              GO                    5   \n",
              "2     25/12/2022   Larissa Alves              MG                    5   \n",
              "3     23/11/2021  Lucas Oliveira              MG                    3   \n",
              "4     25/04/2022   Bianca Santos              SP                    4   \n",
              "\n",
              "  Tipo de pagamento  Quantidade de parcelas    lat    lon  \n",
              "0    cartao_credito                       3 -22.19 -48.79  \n",
              "1    cartao_credito                       2 -15.98 -49.86  \n",
              "2            boleto                       1 -18.10 -44.38  \n",
              "3            boleto                       1 -18.10 -44.38  \n",
              "4    cartao_credito                       7 -22.19 -48.79  "
            ]
          },
          "execution_count": 50,
          "metadata": {},
          "output_type": "execute_result"
        }
      ],
      "source": [
        "loja4 = pd.read_csv(url4)\n",
        "\n",
        "loja4.head()\n"
      ]
    },
    {
      "cell_type": "code",
      "execution_count": 51,
      "metadata": {},
      "outputs": [
        {
          "name": "stdout",
          "output_type": "stream",
          "text": [
            "Faturamento da loja4: R$2371.77\n"
          ]
        }
      ],
      "source": [
        "import pandas as pd\n",
        "\n",
        "# Dados da loja4\n",
        "\n",
        "dados = {\n",
        "    'Produto': ['Lava louças', 'Cama box', 'Bola de basquete', 'Modelagem preditiva', 'Fone de ouvido'],\n",
        "    'Categoria do Produto': ['eletrodomesticos', 'moveis', 'esporte e lazer', 'livros', 'eletronicos'],\n",
        "    'Preço': [1446.46, 631.70, 31.54, 76.93, 185.14],\n",
        "    'Frete': [74.604083, 33.919251, 0.000000, 1.680730, 7.442587],\n",
        "    'Data da Compra': ['11/11/2022', '03/01/2020', '25/12/2022', '23/11/2021', '25/04/2022'],\n",
        "    'Vendedor': ['Rafael Costa', 'Thiago Silva', 'Larissa Alves', 'Lucas Oliveira', 'Bianca Santos'],\n",
        "    'Local da compra': ['SP', 'GO', 'MG', 'MG', 'SP'],\n",
        "    'Avaliação da compra': [4, 5, 5, 3, 4],\n",
        "    'Tipo de pagamento': ['cartao_credito', 'cartao_credito', 'boleto', 'boleto', 'cartao_credito'],\n",
        "    'Quantidade de parcelas': [3, 2, 1, 1, 7],\n",
        "    'lat': [-22.19, -15.98, -18.10, -18.10, -22.19],\n",
        "    'lon': [-48.79, -49.86, -44.38, -44.38, -48.79]\n",
        "}\n",
        "\n",
        "# Crie um DataFrame\n",
        "\n",
        "loja4 = pd.DataFrame(dados)\n",
        "\n",
        "# Calcule o faturamento\n",
        "faturamento = loja4['Preço'].sum()\n",
        "\n",
        "# Imprima o faturamento\n",
        "print(f'Faturamento da loja4: R${faturamento:.2f}')\n",
        "\n"
      ]
    },
    {
      "cell_type": "code",
      "execution_count": null,
      "metadata": {},
      "outputs": [],
      "source": []
    },
    {
      "cell_type": "markdown",
      "metadata": {
        "id": "2V_vcAPzWZmR"
      },
      "source": [
        "# 2. Vendas por Categoria\n"
      ]
    },
    {
      "cell_type": "code",
      "execution_count": 54,
      "metadata": {
        "id": "A34YupIuYhfF"
      },
      "outputs": [
        {
          "name": "stdout",
          "output_type": "stream",
          "text": [
            "    Categoria do Produto    Preço\n",
            "0  instrumentos musicais   102.37\n",
            "1                 moveis  2707.98\n"
          ]
        }
      ],
      "source": [
        "# Agrupe os dados por categoria e calcule a soma dos preços\n",
        "\n",
        "vendas_por_categoria = loja.groupby('Categoria do Produto')['Preço'].sum().reset_index()\n",
        "\n",
        "# Imprima as vendas por categoria\n",
        "\n",
        "print(vendas_por_categoria)\n"
      ]
    },
    {
      "cell_type": "code",
      "execution_count": 56,
      "metadata": {},
      "outputs": [
        {
          "name": "stdout",
          "output_type": "stream",
          "text": [
            "    Categoria do Produto      Preço\n",
            "0             brinquedos   21262.21\n",
            "1       eletrodomesticos  464758.13\n",
            "2            eletronicos  547773.71\n",
            "3        esporte e lazer   46326.09\n",
            "4  instrumentos musicais  139987.03\n",
            "5                 livros   13454.35\n",
            "6                 moveis  235234.68\n",
            "7  utilidades domesticas   19662.86\n"
          ]
        }
      ],
      "source": [
        "vendas_por_categoria = loja2.groupby('Categoria do Produto')['Preço'].sum().reset_index()\n",
        "\n",
        "# Imprima as vendas por categoria\n",
        "\n",
        "print(vendas_por_categoria)\n"
      ]
    },
    {
      "cell_type": "code",
      "execution_count": 57,
      "metadata": {},
      "outputs": [
        {
          "name": "stdout",
          "output_type": "stream",
          "text": [
            "    Categoria do Produto    Preço\n",
            "0       eletrodomesticos  1713.50\n",
            "1        esporte e lazer    78.40\n",
            "2  instrumentos musicais   404.62\n",
            "3                 moveis  1081.57\n"
          ]
        }
      ],
      "source": [
        "vendas_por_categoria = loja3.groupby('Categoria do Produto')['Preço'].sum().reset_index()\n",
        "\n",
        "# Imprima as vendas por categoria\n",
        "\n",
        "print(vendas_por_categoria)\n"
      ]
    },
    {
      "cell_type": "code",
      "execution_count": 58,
      "metadata": {},
      "outputs": [
        {
          "name": "stdout",
          "output_type": "stream",
          "text": [
            "  Categoria do Produto    Preço\n",
            "0     eletrodomesticos  1446.46\n",
            "1          eletronicos   185.14\n",
            "2      esporte e lazer    31.54\n",
            "3               livros    76.93\n",
            "4               moveis   631.70\n"
          ]
        }
      ],
      "source": [
        "vendas_por_categoria = loja4.groupby('Categoria do Produto')['Preço'].sum().reset_index()\n",
        "\n",
        "# Imprima as vendas por categoria\n",
        "\n",
        "print(vendas_por_categoria)\n"
      ]
    },
    {
      "cell_type": "markdown",
      "metadata": {
        "id": "Rq6tU_xSY3jk"
      },
      "source": [
        "# 3. Média de Avaliação das Lojas"
      ]
    },
    {
      "cell_type": "code",
      "execution_count": 59,
      "metadata": {
        "id": "bh3jjjJwY5MU"
      },
      "outputs": [
        {
          "name": "stdout",
          "output_type": "stream",
          "text": [
            "Média de avaliação: 3.60\n"
          ]
        }
      ],
      "source": [
        "# Calcule a média de avaliação\n",
        "\n",
        "media_avaliacao = loja['Avaliação da compra'].mean()\n",
        "\n",
        "# Imprima a média de avaliação\n",
        "\n",
        "print(f'Média de avaliação: {media_avaliacao:.2f}')\n"
      ]
    },
    {
      "cell_type": "code",
      "execution_count": 60,
      "metadata": {
        "id": "I0KkjPoTY88F"
      },
      "outputs": [
        {
          "name": "stdout",
          "output_type": "stream",
          "text": [
            "Média de avaliação: 4.04\n"
          ]
        }
      ],
      "source": [
        "# Calcule a média de avaliação\n",
        "\n",
        "media_avaliacao = loja2['Avaliação da compra'].mean()\n",
        "\n",
        "# Imprima a média de avaliação\n",
        "print(f'Média de avaliação: {media_avaliacao:.2f}')\n"
      ]
    },
    {
      "cell_type": "code",
      "execution_count": 61,
      "metadata": {},
      "outputs": [
        {
          "name": "stdout",
          "output_type": "stream",
          "text": [
            "Média de avaliação: 3.40\n"
          ]
        }
      ],
      "source": [
        "# Calcule a média de avaliação\n",
        "\n",
        "media_avaliacao = loja3['Avaliação da compra'].mean()\n",
        "\n",
        "# Imprima a média de avaliação\n",
        "\n",
        "print(f'Média de avaliação: {media_avaliacao:.2f}')\n"
      ]
    },
    {
      "cell_type": "code",
      "execution_count": 62,
      "metadata": {},
      "outputs": [
        {
          "name": "stdout",
          "output_type": "stream",
          "text": [
            "Média de avaliação: 4.20\n"
          ]
        }
      ],
      "source": [
        "# Calcule a média de avaliação\n",
        "\n",
        "media_avaliacao = loja4['Avaliação da compra'].mean()\n",
        "\n",
        "# Imprima a média de avaliação\n",
        "print(f'Média de avaliação: {media_avaliacao:.2f}')\n"
      ]
    },
    {
      "cell_type": "markdown",
      "metadata": {
        "id": "DmNp1KPBZCm-"
      },
      "source": [
        "# 4. Produtos Mais e Menos Vendidos"
      ]
    },
    {
      "cell_type": "code",
      "execution_count": 63,
      "metadata": {
        "id": "qoyjqijQZHfF"
      },
      "outputs": [
        {
          "name": "stdout",
          "output_type": "stream",
          "text": [
            "Produto mais vendido: Cadeira de escritório\n"
          ]
        }
      ],
      "source": [
        "# Calcule o produto mais vendido\n",
        "\n",
        "produto_mais_vendido = loja['Produto'].value_counts().idxmax()\n",
        "\n",
        "# Imprima o produto mais vendido\n",
        "print(f'Produto mais vendido: {produto_mais_vendido}')"
      ]
    },
    {
      "cell_type": "code",
      "execution_count": 64,
      "metadata": {
        "id": "0Sw3sd4IZIGW"
      },
      "outputs": [
        {
          "name": "stdout",
          "output_type": "stream",
          "text": [
            "Produto mais vendido: Iniciando em programação\n"
          ]
        }
      ],
      "source": [
        "# Calcule o produto mais vendido\n",
        "\n",
        "produto_mais_vendido = loja2['Produto'].value_counts().idxmax()\n",
        "\n",
        "# Imprima o produto mais vendido\n",
        "print(f'Produto mais vendido: {produto_mais_vendido}')"
      ]
    },
    {
      "cell_type": "code",
      "execution_count": 65,
      "metadata": {},
      "outputs": [
        {
          "name": "stdout",
          "output_type": "stream",
          "text": [
            "Produto mais vendido: Secadora de roupas\n"
          ]
        }
      ],
      "source": [
        "# Calcule o produto mais vendido\n",
        "\n",
        "produto_mais_vendido = loja3['Produto'].value_counts().idxmax()\n",
        "\n",
        "# Imprima o produto mais vendido\n",
        "print(f'Produto mais vendido: {produto_mais_vendido}')\n"
      ]
    },
    {
      "cell_type": "code",
      "execution_count": 66,
      "metadata": {},
      "outputs": [
        {
          "name": "stdout",
          "output_type": "stream",
          "text": [
            "Produto mais vendido: Lava louças\n"
          ]
        }
      ],
      "source": [
        "# Calcule o produto mais vendido\n",
        "\n",
        "produto_mais_vendido = loja4['Produto'].value_counts().idxmax()\n",
        "\n",
        "# Imprima o produto mais vendido\n",
        "print(f'Produto mais vendido: {produto_mais_vendido}')"
      ]
    },
    {
      "cell_type": "markdown",
      "metadata": {
        "id": "Fl0cGi3bZKqU"
      },
      "source": [
        "# 5. Frete Médio por Loja\n"
      ]
    },
    {
      "cell_type": "code",
      "execution_count": 68,
      "metadata": {
        "id": "0tSdCie9ZQlt"
      },
      "outputs": [
        {
          "name": "stdout",
          "output_type": "stream",
          "text": [
            "  Local da compra   Categoria do Produto      Frete\n",
            "0              MG                 moveis  20.421138\n",
            "1              RJ  instrumentos musicais   3.035334\n",
            "2              RS                 moveis  61.919584\n",
            "3              SC                 moveis  31.759020\n",
            "4              SP                 moveis  25.827176\n"
          ]
        }
      ],
      "source": [
        "# Calcule o frete médio por loja e categoria\n",
        "\n",
        "frete_medio_loja_categoria = loja.groupby(['Local da compra', 'Categoria do Produto'])['Frete'].mean().reset_index()\n",
        "\n",
        "# Imprima o frete médio por loja e categoria\n",
        "\n",
        "print(frete_medio_loja_categoria)"
      ]
    },
    {
      "cell_type": "code",
      "execution_count": 69,
      "metadata": {},
      "outputs": [
        {
          "name": "stdout",
          "output_type": "stream",
          "text": [
            "    Local da compra   Categoria do Produto       Frete\n",
            "0                AC            eletronicos    3.438413\n",
            "1                AL       eletrodomesticos   43.576528\n",
            "2                AL            eletronicos   25.428902\n",
            "3                AL        esporte e lazer    1.269802\n",
            "4                AL  instrumentos musicais   37.295247\n",
            "..              ...                    ...         ...\n",
            "161              SP  utilidades domesticas    6.159257\n",
            "162              TO       eletrodomesticos  110.573490\n",
            "163              TO        esporte e lazer   24.239951\n",
            "164              TO  instrumentos musicais   33.015851\n",
            "165              TO                 moveis   30.682291\n",
            "\n",
            "[166 rows x 3 columns]\n"
          ]
        }
      ],
      "source": [
        "# Calcule o frete médio por loja e categoria\n",
        "\n",
        "frete_medio_loja_categoria = loja2.groupby(['Local da compra', 'Categoria do Produto'])['Frete'].mean().reset_index()\n",
        "\n",
        "# Imprima o frete médio por loja e categoria\n",
        "print(frete_medio_loja_categoria)\n"
      ]
    },
    {
      "cell_type": "code",
      "execution_count": 70,
      "metadata": {},
      "outputs": [
        {
          "name": "stdout",
          "output_type": "stream",
          "text": [
            "  Local da compra   Categoria do Produto      Frete\n",
            "0              BA        esporte e lazer   4.463341\n",
            "1              CE       eletrodomesticos  88.823159\n",
            "2              RS                 moveis  18.180908\n",
            "3              SP  instrumentos musicais  23.197592\n",
            "4              SP                 moveis  34.578319\n"
          ]
        }
      ],
      "source": [
        "# Calcule o frete médio por loja e categoria\n",
        "\n",
        "frete_medio_loja_categoria = loja3.groupby(['Local da compra', 'Categoria do Produto'])['Frete'].mean().reset_index()\n",
        "\n",
        "# Imprima o frete médio por loja e categoria\n",
        "print(frete_medio_loja_categoria)"
      ]
    },
    {
      "cell_type": "code",
      "execution_count": 71,
      "metadata": {},
      "outputs": [
        {
          "name": "stdout",
          "output_type": "stream",
          "text": [
            "  Local da compra Categoria do Produto      Frete\n",
            "0              GO               moveis  33.919251\n",
            "1              MG      esporte e lazer   0.000000\n",
            "2              MG               livros   1.680730\n",
            "3              SP     eletrodomesticos  74.604083\n",
            "4              SP          eletronicos   7.442587\n"
          ]
        }
      ],
      "source": [
        "# Calcule o frete médio por loja e categoria\n",
        "\n",
        "frete_medio_loja_categoria = loja4.groupby(['Local da compra', 'Categoria do Produto'])['Frete'].mean().reset_index()\n",
        "\n",
        "# Imprima o frete médio por loja e categoria\n",
        "print(frete_medio_loja_categoria)"
      ]
    }
  ],
  "metadata": {
    "colab": {
      "provenance": []
    },
    "kernelspec": {
      "display_name": "base",
      "language": "python",
      "name": "python3"
    },
    "language_info": {
      "codemirror_mode": {
        "name": "ipython",
        "version": 3
      },
      "file_extension": ".py",
      "mimetype": "text/x-python",
      "name": "python",
      "nbconvert_exporter": "python",
      "pygments_lexer": "ipython3",
      "version": "3.12.3"
    }
  },
  "nbformat": 4,
  "nbformat_minor": 0
}
