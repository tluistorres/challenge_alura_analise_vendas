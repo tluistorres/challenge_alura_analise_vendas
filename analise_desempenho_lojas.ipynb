{
  "cells": [
    {
      "cell_type": "markdown",
      "metadata": {
        "id": "RhEdWd9YUR6H"
      },
      "source": [
        "### Importação dos dados\n",
        "\n"
      ]
    },
    {
      "cell_type": "code",
      "execution_count": 3,
      "metadata": {
        "colab": {
          "base_uri": "https://localhost:8080/",
          "height": 206
        },
        "id": "T3EvaeQ_INIL",
        "outputId": "7194bc65-372c-47e6-cb47-d4bfc9952c91"
      },
      "outputs": [],
      "source": [
        "import pandas as pd\n",
        "\n",
        "url = \"https://raw.githubusercontent.com/alura-es-cursos/challenge1-data-science/refs/heads/main/base-de-dados-challenge-1/loja_1.csv\"\n",
        "url2 = \"https://raw.githubusercontent.com/alura-es-cursos/challenge1-data-science/refs/heads/main/base-de-dados-challenge-1/loja_2.csv\"\n",
        "url3 = \"https://raw.githubusercontent.com/alura-es-cursos/challenge1-data-science/refs/heads/main/base-de-dados-challenge-1/loja_3.csv\"\n",
        "url4 = \"https://raw.githubusercontent.com/alura-es-cursos/challenge1-data-science/refs/heads/main/base-de-dados-challenge-1/loja_4.csv\"\n",
        "\n",
        "loja = pd.read_csv(url)\n",
        "loja2 = pd.read_csv(url2)\n",
        "loja3 = pd.read_csv(url3)\n",
        "loja4 = pd.read_csv(url4)\n"
      ]
    },
    {
      "cell_type": "markdown",
      "metadata": {
        "id": "X62IW3KFUIYm"
      },
      "source": [
        "#1. Análise do faturamento\n"
      ]
    },
    {
      "cell_type": "code",
      "execution_count": null,
      "metadata": {},
      "outputs": [
        {
          "name": "stdout",
          "output_type": "stream",
          "text": [
            "<class 'pandas.core.frame.DataFrame'>\n",
            "RangeIndex: 2359 entries, 0 to 2358\n",
            "Data columns (total 12 columns):\n",
            " #   Column                  Non-Null Count  Dtype  \n",
            "---  ------                  --------------  -----  \n",
            " 0   Produto                 2359 non-null   object \n",
            " 1   Categoria do Produto    2359 non-null   object \n",
            " 2   Preço                   2359 non-null   float64\n",
            " 3   Frete                   2359 non-null   float64\n",
            " 4   Data da Compra          2359 non-null   object \n",
            " 5   Vendedor                2359 non-null   object \n",
            " 6   Local da compra         2359 non-null   object \n",
            " 7   Avaliação da compra     2359 non-null   int64  \n",
            " 8   Tipo de pagamento       2359 non-null   object \n",
            " 9   Quantidade de parcelas  2359 non-null   int64  \n",
            " 10  lat                     2359 non-null   float64\n",
            " 11  lon                     2359 non-null   float64\n",
            "dtypes: float64(4), int64(2), object(6)\n",
            "memory usage: 221.3+ KB\n",
            "None\n",
            "             Preço        Frete  Avaliação da compra  Quantidade de parcelas  \\\n",
            "count  2359.000000  2359.000000          2359.000000             2359.000000   \n",
            "mean    650.491361    34.691805             3.976685                2.943196   \n",
            "std     819.582778    43.814183             1.415370                2.819897   \n",
            "min      10.070000     0.000000             1.000000                1.000000   \n",
            "25%      74.345000     4.141783             3.000000                1.000000   \n",
            "50%     313.750000    16.498835             5.000000                1.000000   \n",
            "75%     904.130000    48.050074             5.000000                4.000000   \n",
            "max    3969.380000   214.377060             5.000000               24.000000   \n",
            "\n",
            "               lat          lon  \n",
            "count  2359.000000  2359.000000  \n",
            "mean    -20.763366   -47.349385  \n",
            "std       5.372400     4.183180  \n",
            "min     -30.170000   -70.550000  \n",
            "25%     -22.250000   -48.790000  \n",
            "50%     -22.190000   -48.790000  \n",
            "75%     -18.100000   -44.380000  \n",
            "max       1.410000   -36.590000  \n",
            "Faturamento da loja R$1534509.12\n"
          ]
        }
      ],
      "source": [
        "import pandas as pd\n",
        "\n",
        "url = \"https://raw.githubusercontent.com/alura-es-cursos/challenge1-data-science/refs/heads/main/base-de-dados-challenge-1/loja_1.csv\"\n",
        "\n",
        "loja = pd.read_csv(url)\n",
        "\n",
        "# Verificando os Dados que temos do DataFrame \"loja\".\n",
        "\n",
        "print(loja.info())  # Visualizar informações sobre o DataFrame\n",
        "print(loja.describe())  # Visualizar estatísticas descritivas do DataFrame\n",
        "\n",
        "faturamento = loja['Preço'].sum()\n",
        "print(f'Faturamento da loja R${faturamento:.2f}')"
      ]
    },
    {
      "cell_type": "code",
      "execution_count": 28,
      "metadata": {},
      "outputs": [
        {
          "name": "stdout",
          "output_type": "stream",
          "text": [
            "<class 'pandas.core.frame.DataFrame'>\n",
            "RangeIndex: 2359 entries, 0 to 2358\n",
            "Data columns (total 12 columns):\n",
            " #   Column                  Non-Null Count  Dtype  \n",
            "---  ------                  --------------  -----  \n",
            " 0   Produto                 2359 non-null   object \n",
            " 1   Categoria do Produto    2359 non-null   object \n",
            " 2   Preço                   2359 non-null   float64\n",
            " 3   Frete                   2359 non-null   float64\n",
            " 4   Data da Compra          2359 non-null   object \n",
            " 5   Vendedor                2359 non-null   object \n",
            " 6   Local da compra         2359 non-null   object \n",
            " 7   Avaliação da compra     2359 non-null   int64  \n",
            " 8   Tipo de pagamento       2359 non-null   object \n",
            " 9   Quantidade de parcelas  2359 non-null   int64  \n",
            " 10  lat                     2359 non-null   float64\n",
            " 11  lon                     2359 non-null   float64\n",
            "dtypes: float64(4), int64(2), object(6)\n",
            "memory usage: 221.3+ KB\n",
            "None\n",
            "             Preço        Frete  Avaliação da compra  Quantidade de parcelas  \\\n",
            "count  2359.000000  2359.000000          2359.000000             2359.000000   \n",
            "mean    630.970352    33.621941             4.037304                2.902501   \n",
            "std     794.078997    42.321932             1.356153                2.848416   \n",
            "min      10.160000     0.000000             1.000000                1.000000   \n",
            "25%      72.730000     3.904020             4.000000                1.000000   \n",
            "50%     290.960000    15.406740             5.000000                1.000000   \n",
            "75%     903.580000    47.250196             5.000000                4.000000   \n",
            "max    3937.850000   216.707633             5.000000               24.000000   \n",
            "\n",
            "               lat          lon  \n",
            "count  2359.000000  2359.000000  \n",
            "mean    -20.473243   -47.098508  \n",
            "std       5.321015     4.169111  \n",
            "min     -30.170000   -70.550000  \n",
            "25%     -22.250000   -48.790000  \n",
            "50%     -22.190000   -48.790000  \n",
            "75%     -18.100000   -44.380000  \n",
            "max       1.990000   -36.590000  \n",
            "Faturamento da loja2 R$1488459.06\n"
          ]
        }
      ],
      "source": [
        "url2 = \"https://raw.githubusercontent.com/alura-es-cursos/challenge1-data-science/refs/heads/main/base-de-dados-challenge-1/loja_2.csv\"\n",
        "\n",
        "loja2 = pd.read_csv(url2)\n",
        "\n",
        "# Verificando os Dados que temos do DataFrame \"loja2\".\n",
        "\n",
        "print(loja2.info())  # Visualizar informações sobre o DataFrame\n",
        "print(loja2.describe())  # Visualizar estatísticas descritivas do DataFrame\n",
        "\n",
        "faturamento = loja2['Preço'].sum()\n",
        "print(f'Faturamento da loja2 R${faturamento:.2f}')\n"
      ]
    },
    {
      "cell_type": "code",
      "execution_count": 29,
      "metadata": {},
      "outputs": [
        {
          "name": "stdout",
          "output_type": "stream",
          "text": [
            "<class 'pandas.core.frame.DataFrame'>\n",
            "RangeIndex: 2359 entries, 0 to 2358\n",
            "Data columns (total 12 columns):\n",
            " #   Column                  Non-Null Count  Dtype  \n",
            "---  ------                  --------------  -----  \n",
            " 0   Produto                 2359 non-null   object \n",
            " 1   Categoria do Produto    2359 non-null   object \n",
            " 2   Preço                   2359 non-null   float64\n",
            " 3   Frete                   2359 non-null   float64\n",
            " 4   Data da Compra          2359 non-null   object \n",
            " 5   Vendedor                2359 non-null   object \n",
            " 6   Local da compra         2359 non-null   object \n",
            " 7   Avaliação da compra     2359 non-null   int64  \n",
            " 8   Tipo de pagamento       2359 non-null   object \n",
            " 9   Quantidade de parcelas  2359 non-null   int64  \n",
            " 10  lat                     2359 non-null   float64\n",
            " 11  lon                     2359 non-null   float64\n",
            "dtypes: float64(4), int64(2), object(6)\n",
            "memory usage: 221.3+ KB\n",
            "None\n",
            "             Preço        Frete  Avaliação da compra  Quantidade de parcelas  \\\n",
            "count  2359.000000  2359.000000          2359.000000             2359.000000   \n",
            "mean    620.612560    33.074464             4.048326                2.967783   \n",
            "std     774.191691    41.260516             1.386426                2.812153   \n",
            "min      10.080000     0.000000             1.000000                1.000000   \n",
            "25%      76.560000     4.149261             4.000000                1.000000   \n",
            "50%     301.670000    15.879702             5.000000                2.000000   \n",
            "75%     888.040000    46.635503             5.000000                4.000000   \n",
            "max    3957.620000   211.257624             5.000000               24.000000   \n",
            "\n",
            "               lat          lon  \n",
            "count  2359.000000  2359.000000  \n",
            "mean    -20.405396   -47.129233  \n",
            "std       5.465572     4.197520  \n",
            "min     -30.170000   -70.550000  \n",
            "25%     -22.250000   -48.790000  \n",
            "50%     -22.190000   -48.790000  \n",
            "75%     -18.100000   -44.380000  \n",
            "max       1.990000   -36.590000  \n",
            "Faturamento da loja3 R$1464025.03\n"
          ]
        }
      ],
      "source": [
        "url3 = \"https://raw.githubusercontent.com/alura-es-cursos/challenge1-data-science/refs/heads/main/base-de-dados-challenge-1/loja_3.csv\"\n",
        "\n",
        "loja3 = pd.read_csv(url3)\n",
        "\n",
        "# Verificando os Dados que temos do DataFrame \"loja2\".\n",
        "\n",
        "print(loja3.info())  # Visualizar informações sobre o DataFrame\n",
        "print(loja3.describe())  # Visualizar estatísticas descritivas do DataFrame\n",
        "\n",
        "faturamento = loja3['Preço'].sum()\n",
        "print(f'Faturamento da loja3 R${faturamento:.2f}')\n"
      ]
    },
    {
      "cell_type": "code",
      "execution_count": 30,
      "metadata": {},
      "outputs": [
        {
          "name": "stdout",
          "output_type": "stream",
          "text": [
            "<class 'pandas.core.frame.DataFrame'>\n",
            "RangeIndex: 2358 entries, 0 to 2357\n",
            "Data columns (total 12 columns):\n",
            " #   Column                  Non-Null Count  Dtype  \n",
            "---  ------                  --------------  -----  \n",
            " 0   Produto                 2358 non-null   object \n",
            " 1   Categoria do Produto    2358 non-null   object \n",
            " 2   Preço                   2358 non-null   float64\n",
            " 3   Frete                   2358 non-null   float64\n",
            " 4   Data da Compra          2358 non-null   object \n",
            " 5   Vendedor                2358 non-null   object \n",
            " 6   Local da compra         2358 non-null   object \n",
            " 7   Avaliação da compra     2358 non-null   int64  \n",
            " 8   Tipo de pagamento       2358 non-null   object \n",
            " 9   Quantidade de parcelas  2358 non-null   int64  \n",
            " 10  lat                     2358 non-null   float64\n",
            " 11  lon                     2358 non-null   float64\n",
            "dtypes: float64(4), int64(2), object(6)\n",
            "memory usage: 221.2+ KB\n",
            "None\n",
            "             Preço        Frete  Avaliação da compra  Quantidade de parcelas  \\\n",
            "count  2358.000000  2358.000000          2358.000000             2358.000000   \n",
            "mean    587.149101    31.278997             3.995759                2.896098   \n",
            "std     758.341290    40.373136             1.403063                2.730393   \n",
            "min      10.170000     0.000000             1.000000                1.000000   \n",
            "25%      71.225000     3.847061             3.000000                1.000000   \n",
            "50%     279.315000    14.614197             5.000000                1.000000   \n",
            "75%     845.577500    44.438533             5.000000                4.000000   \n",
            "max    3869.560000   206.325555             5.000000               18.000000   \n",
            "\n",
            "               lat          lon  \n",
            "count  2358.000000  2358.000000  \n",
            "mean    -20.494215   -47.107553  \n",
            "std       5.433033     4.159156  \n",
            "min     -30.170000   -65.100000  \n",
            "25%     -22.250000   -48.790000  \n",
            "50%     -22.190000   -48.790000  \n",
            "75%     -18.100000   -44.380000  \n",
            "max       1.410000   -36.590000  \n",
            "Faturamento da loja4 R$1384497.58\n"
          ]
        }
      ],
      "source": [
        "url4 = \"https://raw.githubusercontent.com/alura-es-cursos/challenge1-data-science/refs/heads/main/base-de-dados-challenge-1/loja_4.csv\"\n",
        "\n",
        "loja4 = pd.read_csv(url4)\n",
        "\n",
        "# Verificando os Dados que temos do DataFrame \"loja2\".\n",
        "\n",
        "print(loja4.info())  # Visualizar informações sobre o DataFrame\n",
        "print(loja4.describe())  # Visualizar estatísticas descritivas do DataFrame\n",
        "\n",
        "faturamento = loja4['Preço'].sum()\n",
        "print(f'Faturamento da loja4 R${faturamento:.2f}')"
      ]
    },
    {
      "cell_type": "markdown",
      "metadata": {
        "id": "2V_vcAPzWZmR"
      },
      "source": [
        "# 2. Vendas por Categoria\n"
      ]
    },
    {
      "cell_type": "code",
      "execution_count": 11,
      "metadata": {
        "id": "A34YupIuYhfF"
      },
      "outputs": [
        {
          "name": "stdout",
          "output_type": "stream",
          "text": [
            "    Categoria do Produto      Preço\n",
            "0             brinquedos   23993.78\n",
            "1       eletrodomesticos  484913.36\n",
            "2            eletronicos  572659.23\n",
            "3        esporte e lazer   52387.55\n",
            "4  instrumentos musicais  121731.69\n",
            "5                 livros   11713.92\n",
            "6                 moveis  250178.11\n",
            "7  utilidades domesticas   16931.48\n"
          ]
        }
      ],
      "source": [
        "\n",
        "vendas_por_categoria = loja.groupby('Categoria do Produto')['Preço'].sum().reset_index()\n",
        "\n",
        "print(vendas_por_categoria)\n"
      ]
    },
    {
      "cell_type": "code",
      "execution_count": 12,
      "metadata": {},
      "outputs": [
        {
          "name": "stdout",
          "output_type": "stream",
          "text": [
            "    Categoria do Produto      Preço\n",
            "0             brinquedos   21262.21\n",
            "1       eletrodomesticos  464758.13\n",
            "2            eletronicos  547773.71\n",
            "3        esporte e lazer   46326.09\n",
            "4  instrumentos musicais  139987.03\n",
            "5                 livros   13454.35\n",
            "6                 moveis  235234.68\n",
            "7  utilidades domesticas   19662.86\n"
          ]
        }
      ],
      "source": [
        "vendas_por_categoria = loja2.groupby('Categoria do Produto')['Preço'].sum().reset_index()\n",
        "\n",
        "print(vendas_por_categoria)"
      ]
    },
    {
      "cell_type": "code",
      "execution_count": 13,
      "metadata": {},
      "outputs": [
        {
          "name": "stdout",
          "output_type": "stream",
          "text": [
            "    Categoria do Produto      Preço\n",
            "0             brinquedos   25869.20\n",
            "1       eletrodomesticos  438984.89\n",
            "2            eletronicos  547699.92\n",
            "3        esporte e lazer   47456.10\n",
            "4  instrumentos musicais  103174.45\n",
            "5                 livros   12664.70\n",
            "6                 moveis  268095.56\n",
            "7  utilidades domesticas   20080.21\n"
          ]
        }
      ],
      "source": [
        "vendas_por_categoria = loja3.groupby('Categoria do Produto')['Preço'].sum().reset_index()\n",
        "\n",
        "print(vendas_por_categoria)"
      ]
    },
    {
      "cell_type": "code",
      "execution_count": 14,
      "metadata": {},
      "outputs": [
        {
          "name": "stdout",
          "output_type": "stream",
          "text": [
            "    Categoria do Produto      Preço\n",
            "0             brinquedos   27015.67\n",
            "1       eletrodomesticos  377680.65\n",
            "2            eletronicos  545966.86\n",
            "3        esporte e lazer   44465.65\n",
            "4  instrumentos musicais  100136.50\n",
            "5                 livros   12427.77\n",
            "6                 moveis  256705.65\n",
            "7  utilidades domesticas   20098.83\n"
          ]
        }
      ],
      "source": [
        "vendas_por_categoria = loja4.groupby('Categoria do Produto')['Preço'].sum().reset_index()\n",
        "\n",
        "print(vendas_por_categoria)"
      ]
    },
    {
      "cell_type": "markdown",
      "metadata": {
        "id": "Rq6tU_xSY3jk"
      },
      "source": [
        "# 3. Média de Avaliação das Lojas"
      ]
    },
    {
      "cell_type": "code",
      "execution_count": 15,
      "metadata": {},
      "outputs": [
        {
          "name": "stdout",
          "output_type": "stream",
          "text": [
            "Média de avaliação da loja : 3.98\n",
            "Média de avaliação da loja2: 4.04\n",
            "Média de avaliação da loja3: 4.05\n",
            "Média de avaliação da loja4: 4.00\n"
          ]
        }
      ],
      "source": [
        "\n",
        "media_avaliacao = loja['Avaliação da compra'].mean()\n",
        "\n",
        "print(f'Média de avaliação da loja : {media_avaliacao:.2f}')\n",
        "\n",
        "media_avaliacao = loja2['Avaliação da compra'].mean()\n",
        "\n",
        "print(f'Média de avaliação da loja2: {media_avaliacao:.2f}')\n",
        "\n",
        "media_avaliacao = loja3['Avaliação da compra'].mean()\n",
        "\n",
        "print(f'Média de avaliação da loja3: {media_avaliacao:.2f}')\n",
        "\n",
        "media_avaliacao = loja4['Avaliação da compra'].mean()\n",
        "\n",
        "print(f'Média de avaliação da loja4: {media_avaliacao:.2f}')\n"
      ]
    },
    {
      "cell_type": "markdown",
      "metadata": {
        "id": "DmNp1KPBZCm-"
      },
      "source": [
        "# 4. Produtos Mais e Menos Vendidos"
      ]
    },
    {
      "cell_type": "code",
      "execution_count": 17,
      "metadata": {},
      "outputs": [
        {
          "name": "stdout",
          "output_type": "stream",
          "text": [
            "Produto mais vendido da \"loja\": Micro-ondas\n",
            "Produto menos vendido da \"loja\": Headset\n"
          ]
        }
      ],
      "source": [
        "produto_mais_vendido = loja['Produto'].value_counts().idxmax()\n",
        "\n",
        "print(f'Produto mais vendido da \"loja\": {produto_mais_vendido}')\n",
        "\n",
        "produto_menos_vendido = loja['Produto'].value_counts().idxmin()\n",
        "\n",
        "print(f'Produto menos vendido da \"loja\": {produto_menos_vendido}')\n"
      ]
    },
    {
      "cell_type": "code",
      "execution_count": 18,
      "metadata": {
        "id": "0Sw3sd4IZIGW"
      },
      "outputs": [
        {
          "name": "stdout",
          "output_type": "stream",
          "text": [
            "Produto mais vendido: Iniciando em programação\n",
            "Produto menos vendido da \"loja2\": Jogo de tabuleiro\n"
          ]
        }
      ],
      "source": [
        "url2 = \"https://raw.githubusercontent.com/alura-es-cursos/challenge1-data-science/refs/heads/main/base-de-dados-challenge-1/loja_2.csv\"\n",
        "\n",
        "loja2 = pd.read_csv(url2)\n",
        "\n",
        "produto_mais_vendido = loja2['Produto'].value_counts().idxmax()\n",
        "\n",
        "print(f'Produto mais vendido: {produto_mais_vendido}')\n",
        "\n",
        "produto_menos_vendido = loja2['Produto'].value_counts().idxmin()\n",
        "\n",
        "print(f'Produto menos vendido da \"loja2\": {produto_menos_vendido}')\n"
      ]
    },
    {
      "cell_type": "code",
      "execution_count": 19,
      "metadata": {},
      "outputs": [
        {
          "name": "stdout",
          "output_type": "stream",
          "text": [
            "Produto mais vendido da \"loja3\": Kit banquetas\n",
            "Produto menos vendido da \"loja3\": Blocos de montar\n"
          ]
        }
      ],
      "source": [
        "url3 = \"https://raw.githubusercontent.com/alura-es-cursos/challenge1-data-science/refs/heads/main/base-de-dados-challenge-1/loja_3.csv\"\n",
        "\n",
        "loja3 = pd.read_csv(url3)\n",
        "\n",
        "produto_mais_vendido = loja3['Produto'].value_counts().idxmax()\n",
        "\n",
        "print(f'Produto mais vendido da \"loja3\": {produto_mais_vendido}')\n",
        "\n",
        "produto_menos_vendido = loja3['Produto'].value_counts().idxmin()\n",
        "\n",
        "print(f'Produto menos vendido da \"loja3\": {produto_menos_vendido}')\n"
      ]
    },
    {
      "cell_type": "code",
      "execution_count": 20,
      "metadata": {},
      "outputs": [
        {
          "name": "stdout",
          "output_type": "stream",
          "text": [
            "Produto mais vendido da \"loja4\": Cama box\n",
            "Produto menos vendido da \"loja4\": Guitarra\n"
          ]
        }
      ],
      "source": [
        "url4 = \"https://raw.githubusercontent.com/alura-es-cursos/challenge1-data-science/refs/heads/main/base-de-dados-challenge-1/loja_4.csv\"\n",
        "\n",
        "loja4 = pd.read_csv(url4)\n",
        "\n",
        "produto_mais_vendido = loja4['Produto'].value_counts().idxmax()\n",
        "\n",
        "print(f'Produto mais vendido da \"loja4\": {produto_mais_vendido}')\n",
        "\n",
        "produto_menos_vendido = loja4['Produto'].value_counts().idxmin()\n",
        "\n",
        "print(f'Produto menos vendido da \"loja4\": {produto_menos_vendido}')\n"
      ]
    },
    {
      "cell_type": "markdown",
      "metadata": {
        "id": "Fl0cGi3bZKqU"
      },
      "source": [
        "# 5. Frete Médio por Loja\n"
      ]
    },
    {
      "cell_type": "code",
      "execution_count": 23,
      "metadata": {
        "id": "0tSdCie9ZQlt"
      },
      "outputs": [
        {
          "name": "stdout",
          "output_type": "stream",
          "text": [
            "Frete médio da \"loja\" R$34.69\n"
          ]
        }
      ],
      "source": [
        "frete_medio = loja['Frete'].mean()\n",
        "print(f'Frete médio da \"loja\" R${frete_medio:.2f}')"
      ]
    },
    {
      "cell_type": "code",
      "execution_count": 24,
      "metadata": {},
      "outputs": [
        {
          "name": "stdout",
          "output_type": "stream",
          "text": [
            "Frete médio da \"loja2\" R$33.62\n"
          ]
        }
      ],
      "source": [
        "frete_medio = loja2['Frete'].mean()\n",
        "print(f'Frete médio da \"loja2\" R${frete_medio:.2f}')\n"
      ]
    },
    {
      "cell_type": "code",
      "execution_count": 27,
      "metadata": {},
      "outputs": [
        {
          "name": "stdout",
          "output_type": "stream",
          "text": [
            "Frete médio da \"loja3\" R$33.07\n"
          ]
        }
      ],
      "source": [
        "frete_medio = loja3['Frete'].mean()\n",
        "print(f'Frete médio da \"loja3\" R${frete_medio:.2f}')\n"
      ]
    },
    {
      "cell_type": "code",
      "execution_count": 26,
      "metadata": {},
      "outputs": [
        {
          "name": "stdout",
          "output_type": "stream",
          "text": [
            "Frete médio da \"loja4\" R$31.28\n"
          ]
        }
      ],
      "source": [
        "frete_medio = loja4['Frete'].mean()\n",
        "print(f'Frete médio da \"loja4\" R${frete_medio:.2f}')\n"
      ]
    },
    {
      "cell_type": "markdown",
      "metadata": {},
      "source": [
        "6. Custo Médio do Frete"
      ]
    },
    {
      "cell_type": "code",
      "execution_count": null,
      "metadata": {},
      "outputs": [],
      "source": []
    },
    {
      "cell_type": "code",
      "execution_count": 31,
      "metadata": {},
      "outputs": [
        {
          "data": {
            "image/png": "[encoded data removed]",
            "text/plain": [
              "<Figure size 800x800 with 1 Axes>"
            ]
          },
          "metadata": {},
          "output_type": "display_data"
        },
        {
          "data": {
            "image/png": "[encoded data removed]",
            "text/plain": [
              "<Figure size 1000x600 with 1 Axes>"
            ]
          },
          "metadata": {},
          "output_type": "display_data"
        },
        {
          "data": {
            "image/png": "[encoded data removed]",
            "text/plain": [
              "<Figure size 1000x600 with 1 Axes>"
            ]
          },
          "metadata": {},
          "output_type": "display_data"
        },
        {
          "data": {
            "image/png": "[encoded data removed]",
            "text/plain": [
              "<Figure size 1000x600 with 1 Axes>"
            ]
          },
          "metadata": {},
          "output_type": "display_data"
        }
      ],
      "source": [
        "import matplotlib.pyplot as plt\n",
        "\n",
        "faturamento = [1534509.12, 1488459.06, 1464025.03, 1384497.58]\n",
        "avaliacao = [3.98, 4.04, 4.05, 4.00]\n",
        "custo_frete = [34.69, 33.62, 33.07, 31.28]\n",
        "lojas = ['Loja 1', 'Loja 2', 'Loja 3', 'Loja 4']\n",
        "\n",
        "plt.figure(figsize=(8, 8))\n",
        "plt.pie(faturamento, labels=lojas, autopct='%1.1f%%')\n",
        "plt.title('Faturamento das Lojas')\n",
        "plt.show()\n",
        "\n",
        "plt.figure(figsize=(10, 6))\n",
        "plt.bar(lojas, faturamento)\n",
        "plt.title('Faturamento das Lojas')\n",
        "plt.xlabel('Lojas')\n",
        "plt.ylabel('Faturamento (R$)')\n",
        "plt.show()\n",
        "\n",
        "plt.figure(figsize=(10, 6))\n",
        "plt.plot(lojas, avaliacao, marker='o')\n",
        "plt.title('Média de Avaliação das Lojas')\n",
        "plt.xlabel('Lojas')\n",
        "plt.ylabel('Avaliação')\n",
        "plt.show()\n",
        "\n",
        "\n",
        "plt.figure(figsize=(10, 6))\n",
        "plt.bar(lojas, custo_frete)\n",
        "plt.title('Custo Médio do Frete das Lojas')\n",
        "plt.xlabel('Lojas')\n",
        "plt.ylabel('Custo do Frete (R$)')\n",
        "plt.show()\n"
      ]
    },
    {
      "cell_type": "markdown",
      "metadata": {},
      "source": [
        "Relatório:\n",
        "\n",
        "Relatório de Análise de Desempenho das Lojas\n",
        "\n",
        "Introdução\n",
        "\n",
        "Prezado Sr. João,\n",
        "\n",
        "Este relatório apresenta uma análise detalhada do desempenho das nossas lojas, com base nos dados de faturamento, avaliação e custo de frete. O objetivo é fornecer uma visão clara e objetiva do desempenho de cada loja, identificando oportunidades de melhoria e recomendações para otimizar os resultados.\n",
        "\n",
        "Análise de Desempenho\n",
        "Faturamento\n",
        "- A Loja 1 apresentou o maior faturamento, com R$ 1.534.509,12.\n",
        "- A Loja 4 teve o menor faturamento, com R$ 1.384.497,58.\n",
        "\n",
        "Avaliação\n",
        "- A Loja 3 apresentou a melhor avaliação média, com 4,05 estrelas.\n",
        "- A Loja 1 teve a pior avaliação média, com 3,98 estrelas.\n",
        "\n",
        "Custo de Frete\n",
        "- A Loja 1 apresentou o maior custo de frete, com R$ 34,69.\n",
        "- A Loja 4 teve o menor custo de frete, com R$ 31,28.\n",
        "\n",
        "Recomendações\n",
        "Com base na análise, recomendamos:\n",
        "\n",
        "- Manter a estratégia atual das Lojas 2 e 3, que apresentaram desempenho sólido em faturamento e avaliação.\n",
        "- Implementar melhorias na Loja 1 para reduzir o custo de frete e melhorar a avaliação média.\n",
        "- Considerar a possibilidade de desfazer da Loja 4, devido ao baixo faturamento e baixo desempenho em geral.\n",
        "\n",
        "Justificativa\n",
        "A Loja 4 não parece ser tão rentável quanto as outras lojas, e o baixo faturamento não justifica a manutenção da loja. Já as Lojas 2 e 3 apresentaram desempenho sólido e devem ser mantidas e aprimoradas.\n",
        "\n",
        "Próximos Passos\n",
        "- Realizar uma análise mais detalhada dos dados e considerar outras variáveis que possam influenciar a decisão.\n",
        "- Implementar as recomendações e monitorar os resultados.\n",
        "- Revisar e ajustar a estratégia das lojas regularmente para garantir o melhor desempenho possível.\n",
        "\n",
        "Conclusão\n",
        "Esperamos que este relatório seja útil para tomar decisões informadas sobre o futuro das nossas lojas. Estamos à disposição para discutir os resultados e recomendações em mais detalhes.\n",
        "\n",
        "Atenciosamente,\n",
        "[Luís Tôrres da Silva]"
      ]
    }
  ],
  "metadata": {
    "colab": {
      "provenance": []
    },
    "kernelspec": {
      "display_name": "base",
      "language": "python",
      "name": "python3"
    },
    "language_info": {
      "codemirror_mode": {
        "name": "ipython",
        "version": 3
      },
      "file_extension": ".py",
      "mimetype": "text/x-python",
      "name": "python",
      "nbconvert_exporter": "python",
      "pygments_lexer": "ipython3",
      "version": "3.12.3"
    }
  },
  "nbformat": 4,
  "nbformat_minor": 0
}
